{
 "cells": [
  {
   "cell_type": "code",
   "execution_count": 2,
   "metadata": {},
   "outputs": [
    {
     "name": "stdout",
     "output_type": "stream",
     "text": [
      "Email sent successfully!\n"
     ]
    }
   ],
   "source": [
    "from email.mime.text import MIMEText\n",
    "import smtplib\n",
    "\n",
    "def send_email_alert(recipients, subject, body):\n",
    "    # Replace with your actual SMTP settings\n",
    "    smtp_server = 'smtp.gmail.com' \n",
    "    smtp_port = 587  \n",
    "    username = 'psg.freel@gmail.com'  \n",
    "    password = 'rtra xhlx disw yube'\n",
    "\n",
    "    message = MIMEText(body)\n",
    "    message['Subject'] = subject\n",
    "    message['From'] = username\n",
    "    message['To'] = ', '.join(recipients) \n",
    "\n",
    "    try:\n",
    "        with smtplib.SMTP(smtp_server, smtp_port) as server:\n",
    "            server.starttls() \n",
    "            server.login(username, password)\n",
    "            server.sendmail(username, recipients, message.as_string())\n",
    "        print(\"Email sent successfully!\")\n",
    "    except Exception as e:\n",
    "        print(\"Error sending email:\", e)\n",
    "\n",
    "# Example usage:\n",
    "recipients = ['pankajchauhan.nitsri@gmail.com']\n",
    "subject = 'Test Email'\n",
    "body = 'This is a test email.'\n",
    "send_email_alert(recipients, subject, body)\n"
   ]
  },
  {
   "cell_type": "code",
   "execution_count": null,
   "metadata": {},
   "outputs": [],
   "source": []
  }
 ],
 "metadata": {
  "kernelspec": {
   "display_name": "env_th",
   "language": "python",
   "name": "python3"
  },
  "language_info": {
   "codemirror_mode": {
    "name": "ipython",
    "version": 3
   },
   "file_extension": ".py",
   "mimetype": "text/x-python",
   "name": "python",
   "nbconvert_exporter": "python",
   "pygments_lexer": "ipython3",
   "version": "3.10.12"
  }
 },
 "nbformat": 4,
 "nbformat_minor": 2
}
